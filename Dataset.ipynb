{
  "nbformat": 4,
  "nbformat_minor": 0,
  "metadata": {
    "colab": {
      "name": "Dataset.ipynb",
      "provenance": [],
      "collapsed_sections": [],
      "mount_file_id": "1CeGUYv27f_lC-fzaLw2Bj2CXU0lyKP4e",
      "authorship_tag": "ABX9TyNQsZUb0rPcAgIU9LqDcK/W",
      "include_colab_link": true
    },
    "kernelspec": {
      "name": "python3",
      "display_name": "Python 3"
    },
    "language_info": {
      "name": "python"
    }
  },
  "cells": [
    {
      "cell_type": "markdown",
      "metadata": {
        "id": "view-in-github",
        "colab_type": "text"
      },
      "source": [
        "<a href=\"https://colab.research.google.com/github/MOHIT335448/AGEING-DATASET-KAGGLE-/blob/main/Dataset.ipynb\" target=\"_parent\"><img src=\"https://colab.research.google.com/assets/colab-badge.svg\" alt=\"Open In Colab\"/></a>"
      ]
    },
    {
      "cell_type": "markdown",
      "metadata": {
        "id": "MVm_i2G6vyud"
      },
      "source": [
        "Made By - Mohit Singh\n",
        "This is just the partial part of the code.The dataset contains for images than the number of images shown in the code "
      ]
    },
    {
      "cell_type": "code",
      "metadata": {
        "id": "PeP1WeMwVUl0"
      },
      "source": [
        "!mkdir images"
      ],
      "execution_count": null,
      "outputs": []
    },
    {
      "cell_type": "code",
      "metadata": {
        "colab": {
          "base_uri": "https://localhost:8080/"
        },
        "id": "tpk_4VYTVaR1",
        "outputId": "a70dc19d-0f15-4c8a-b3b0-2a53ab9b7d07"
      },
      "source": [
        "!pip install bing-image-downloader"
      ],
      "execution_count": null,
      "outputs": [
        {
          "output_type": "stream",
          "text": [
            "Collecting bing-image-downloader\n",
            "  Downloading https://files.pythonhosted.org/packages/2c/f9/e827c690d0df1ec2f2f27cf0fb3d1f944c5c56253f8d3750ccaff051b3d3/bing_image_downloader-1.1.0-py3-none-any.whl\n",
            "Installing collected packages: bing-image-downloader\n",
            "Successfully installed bing-image-downloader-1.1.0\n"
          ],
          "name": "stdout"
        }
      ]
    },
    {
      "cell_type": "code",
      "metadata": {
        "id": "GVCY-D8BVd6W"
      },
      "source": [
        "from bing_image_downloader import downloader\n",
        "downloader.download(\"dark spots on face\",limit=30,output_dir=\"images\",adult_filter_off=True)"
      ],
      "execution_count": null,
      "outputs": []
    },
    {
      "cell_type": "code",
      "metadata": {
        "id": "rPNr3Pu-VikI"
      },
      "source": [
        "from bing_image_downloader import downloader\n",
        "downloader.download(\"wrinkles on face\",limit=30,output_dir=\"images\",adult_filter_off=True)"
      ],
      "execution_count": null,
      "outputs": []
    },
    {
      "cell_type": "code",
      "metadata": {
        "id": "OCiqWKemVwNi"
      },
      "source": [
        "from bing_image_downloader import downloader\n",
        "downloader.download(\"puffy eyes\",limit=30,output_dir=\"images\",adult_filter_off=True)"
      ],
      "execution_count": null,
      "outputs": []
    },
    {
      "cell_type": "code",
      "metadata": {
        "id": "NmbZU17mWY4H"
      },
      "source": [
        "from bing_image_downloader import downloader\n",
        "downloader.download(\"dark undereye circles\",limit=30,output_dir=\"images\",adult_filter_off=True)"
      ],
      "execution_count": null,
      "outputs": []
    },
    {
      "cell_type": "code",
      "metadata": {
        "id": "GzhGaD8gW_k1"
      },
      "source": [
        "from bing_image_downloader import downloader\n",
        "downloader.download(\"crows feet\",limit=30,output_dir=\"images\",adult_filter_off=True)"
      ],
      "execution_count": null,
      "outputs": []
    },
    {
      "cell_type": "code",
      "metadata": {
        "id": "O2Q6R5xQXZZ9"
      },
      "source": [
        "from bing_image_downloader import downloader\n",
        "downloader.download(\"age spots\",limit=30,output_dir=\"images\",adult_filter_off=True)"
      ],
      "execution_count": null,
      "outputs": []
    },
    {
      "cell_type": "code",
      "metadata": {
        "id": "qI-2BYKXXyJs"
      },
      "source": [
        "from bing_image_downloader import downloader\n",
        "downloader.download(\"nasolabial folds\",limit=30,output_dir=\"images\",adult_filter_off=True)"
      ],
      "execution_count": null,
      "outputs": []
    },
    {
      "cell_type": "code",
      "metadata": {
        "colab": {
          "base_uri": "https://localhost:8080/"
        },
        "id": "jp0LGzu3Y4x_",
        "outputId": "2c769698-202e-4f92-e72f-c11892939b6a"
      },
      "source": [
        "ls -l"
      ],
      "execution_count": null,
      "outputs": [
        {
          "output_type": "stream",
          "text": [
            "total 8\n",
            "drwxr-xr-x 10 root root 4096 Jun 10 10:02 \u001b[0m\u001b[01;34mimages\u001b[0m/\n",
            "drwxr-xr-x  1 root root 4096 Jun  1 13:40 \u001b[01;34msample_data\u001b[0m/\n"
          ],
          "name": "stdout"
        }
      ]
    },
    {
      "cell_type": "code",
      "metadata": {
        "id": "bm1RDDRQppWQ"
      },
      "source": [
        "!zip -r /content/images.zip /content/images"
      ],
      "execution_count": null,
      "outputs": []
    },
    {
      "cell_type": "markdown",
      "metadata": {
        "id": "-IY1-45WviUT"
      },
      "source": [
        "Text used below was not used i have added it just for knowlegde inorder to download the file"
      ]
    },
    {
      "cell_type": "code",
      "metadata": {
        "id": "2FxjVRFBZEBM"
      },
      "source": [
        "from google.colab import files\n",
        "files.download('images')"
      ],
      "execution_count": null,
      "outputs": []
    }
  ]
}